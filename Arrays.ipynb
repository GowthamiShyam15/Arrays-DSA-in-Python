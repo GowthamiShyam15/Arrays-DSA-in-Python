{
 "cells": [
  {
   "cell_type": "markdown",
   "id": "957630ed",
   "metadata": {},
   "source": [
    "# Arrays"
   ]
  },
  {
   "cell_type": "code",
   "execution_count": 36,
   "id": "0713c5e1",
   "metadata": {},
   "outputs": [],
   "source": [
    "#creating an array using module\n",
    "import array"
   ]
  },
  {
   "cell_type": "code",
   "execution_count": 37,
   "id": "5bd3a3bb",
   "metadata": {},
   "outputs": [
    {
     "name": "stdout",
     "output_type": "stream",
     "text": [
      "array('i', [23, 1, 21, 67, 27, 34, 11])\n",
      "<class 'array.array'>\n"
     ]
    }
   ],
   "source": [
    "arr = array.array(\"i\",[23,1,21,67,27,34,11])\n",
    "print(arr)\n",
    "print(type(arr))"
   ]
  },
  {
   "cell_type": "code",
   "execution_count": 38,
   "id": "829486f3",
   "metadata": {},
   "outputs": [
    {
     "name": "stdout",
     "output_type": "stream",
     "text": [
      "23\n"
     ]
    }
   ],
   "source": [
    "#access a single value -> index\n",
    "print(arr[0])"
   ]
  },
  {
   "cell_type": "code",
   "execution_count": 39,
   "id": "c031b356",
   "metadata": {},
   "outputs": [
    {
     "name": "stdout",
     "output_type": "stream",
     "text": [
      "array('i', [1, 21, 67, 27])\n"
     ]
    }
   ],
   "source": [
    "#slicing method\n",
    "print(arr[1:5])"
   ]
  },
  {
   "cell_type": "code",
   "execution_count": 40,
   "id": "7a9df3e2",
   "metadata": {},
   "outputs": [
    {
     "name": "stdout",
     "output_type": "stream",
     "text": [
      "23\n",
      "1\n",
      "21\n",
      "67\n",
      "27\n",
      "34\n",
      "11\n"
     ]
    }
   ],
   "source": [
    "#iterate -> for loop\n",
    "for i in arr:\n",
    "    print(i)"
   ]
  },
  {
   "cell_type": "code",
   "execution_count": 41,
   "id": "48cb74fc",
   "metadata": {},
   "outputs": [
    {
     "name": "stdout",
     "output_type": "stream",
     "text": [
      "original Array: array('i', [23, 1, 21, 67, 27, 34, 11])\n",
      "After adding: array('i', [23, 1, 21, 67, 27, 34, 11, 100])\n"
     ]
    }
   ],
   "source": [
    "#append()\n",
    "print(\"original Array:\",arr)\n",
    "arr.append(100)\n",
    "print(\"After adding:\",arr)"
   ]
  },
  {
   "cell_type": "code",
   "execution_count": 42,
   "id": "4527dfa5",
   "metadata": {},
   "outputs": [
    {
     "name": "stdout",
     "output_type": "stream",
     "text": [
      "original Array: array('i', [23, 1, 21, 67, 27, 34, 11, 100])\n",
      "After adding: array('i', [23, 1, 21, 14, 67, 27, 34, 11, 100])\n"
     ]
    }
   ],
   "source": [
    "#insert()\n",
    "print(\"original Array:\",arr)\n",
    "arr.insert(3,14)\n",
    "print(\"After adding:\",arr)"
   ]
  },
  {
   "cell_type": "code",
   "execution_count": 43,
   "id": "ff077575",
   "metadata": {},
   "outputs": [
    {
     "name": "stdout",
     "output_type": "stream",
     "text": [
      "original Array: array('i', [23, 1, 21, 14, 67, 27, 34, 11, 100])\n",
      "After adding: array('i', [23, 1, 21, 14, 67, 27, 34, 11, 100, 10, 89, 56])\n"
     ]
    }
   ],
   "source": [
    "#extend()\n",
    "print(\"original Array:\",arr)\n",
    "arr.extend([10,89,56])\n",
    "print(\"After adding:\",arr)"
   ]
  },
  {
   "cell_type": "code",
   "execution_count": 44,
   "id": "f0d2f11c",
   "metadata": {},
   "outputs": [
    {
     "name": "stdout",
     "output_type": "stream",
     "text": [
      "12\n"
     ]
    }
   ],
   "source": [
    "#len()\n",
    "print(len(arr))"
   ]
  },
  {
   "cell_type": "code",
   "execution_count": 45,
   "id": "a77a57f2",
   "metadata": {},
   "outputs": [
    {
     "name": "stdout",
     "output_type": "stream",
     "text": [
      "1\n"
     ]
    }
   ],
   "source": [
    "#count()\n",
    "print(arr.count(100))"
   ]
  },
  {
   "cell_type": "code",
   "execution_count": 46,
   "id": "2676c40d",
   "metadata": {},
   "outputs": [
    {
     "name": "stdout",
     "output_type": "stream",
     "text": [
      "5\n"
     ]
    }
   ],
   "source": [
    "#index()\n",
    "print(arr.index(27))"
   ]
  },
  {
   "cell_type": "code",
   "execution_count": 47,
   "id": "dd2c99bc",
   "metadata": {},
   "outputs": [
    {
     "name": "stdout",
     "output_type": "stream",
     "text": [
      "original Array: array('i', [23, 1, 21, 14, 67, 27, 34, 11, 100, 10, 89, 56])\n",
      "1\n",
      "100\n",
      "453\n"
     ]
    }
   ],
   "source": [
    "print(\"original Array:\",arr)\n",
    "#min()\n",
    "print(min(arr))\n",
    "#max()\n",
    "print(max(arr))\n",
    "#sum()\n",
    "print(sum(arr))"
   ]
  },
  {
   "cell_type": "code",
   "execution_count": 48,
   "id": "9872318f",
   "metadata": {},
   "outputs": [
    {
     "name": "stdout",
     "output_type": "stream",
     "text": [
      "original Array: array('i', [23, 1, 21, 14, 67, 27, 34, 11, 100, 10, 89, 56])\n",
      "56\n",
      "After Deleting: array('i', [23, 1, 21, 14, 67, 27, 34, 11, 100, 10, 89])\n"
     ]
    }
   ],
   "source": [
    "#pop()\n",
    "print(\"original Array:\",arr)\n",
    "print(arr.pop())\n",
    "print(\"After Deleting:\",arr)"
   ]
  },
  {
   "cell_type": "code",
   "execution_count": 49,
   "id": "15706e2d",
   "metadata": {},
   "outputs": [
    {
     "name": "stdout",
     "output_type": "stream",
     "text": [
      "original Array: array('i', [23, 1, 21, 14, 67, 27, 34, 11, 100, 10, 89])\n",
      "14\n",
      "After Deleting: array('i', [23, 1, 21, 67, 27, 34, 11, 100, 10, 89])\n"
     ]
    }
   ],
   "source": [
    "#pop(index)\n",
    "print(\"original Array:\",arr)\n",
    "print(arr.pop(3))\n",
    "print(\"After Deleting:\",arr)"
   ]
  },
  {
   "cell_type": "code",
   "execution_count": 50,
   "id": "7ff6db61",
   "metadata": {},
   "outputs": [
    {
     "name": "stdout",
     "output_type": "stream",
     "text": [
      "original Array: array('i', [23, 1, 21, 67, 27, 34, 11, 100, 10, 89])\n",
      "After Deleting: array('i', [23, 1, 21, 67, 27, 34, 11, 10, 89])\n"
     ]
    }
   ],
   "source": [
    "#remove(value)\n",
    "print(\"original Array:\",arr)\n",
    "arr.remove(100)\n",
    "print(\"After Deleting:\",arr)"
   ]
  },
  {
   "cell_type": "code",
   "execution_count": 51,
   "id": "d46b454d",
   "metadata": {},
   "outputs": [
    {
     "name": "stdout",
     "output_type": "stream",
     "text": [
      "original Array: array('i', [23, 1, 21, 67, 27, 34, 11, 10, 89])\n",
      "After Deleting: array('i', [23, 1, 67, 27, 34, 11, 10, 89])\n"
     ]
    }
   ],
   "source": [
    "#del v_n[index]\n",
    "\n",
    "print(\"original Array:\",arr)\n",
    "del arr[2]\n",
    "print(\"After Deleting:\",arr)"
   ]
  },
  {
   "cell_type": "code",
   "execution_count": 52,
   "id": "4925613e",
   "metadata": {},
   "outputs": [
    {
     "name": "stdout",
     "output_type": "stream",
     "text": [
      "original Array: array('i', [23, 1, 67, 27, 34, 11, 10, 89])\n",
      "After sorting: array('i', [1, 10, 11, 23, 27, 34, 67, 89])\n"
     ]
    }
   ],
   "source": [
    "#sort()\n",
    "\n",
    "print(\"original Array:\",arr)\n",
    "l = list(arr)\n",
    "l.sort()\n",
    "arr = array.array('i',l)\n",
    "print(\"After sorting:\",arr)"
   ]
  },
  {
   "cell_type": "code",
   "execution_count": 1,
   "id": "7e1c0d66",
   "metadata": {},
   "outputs": [],
   "source": [
    "#creating an array using library(NUMPY)\n",
    "import numpy"
   ]
  },
  {
   "cell_type": "code",
   "execution_count": 2,
   "id": "2229f20e",
   "metadata": {},
   "outputs": [
    {
     "name": "stdout",
     "output_type": "stream",
     "text": [
      "[12 45 67 22 67 78 34 90]\n",
      "<class 'numpy.ndarray'>\n"
     ]
    }
   ],
   "source": [
    "sample = numpy.array([12,45,67,22,67,78,34,90])\n",
    "print(sample)\n",
    "print(type(sample))"
   ]
  },
  {
   "cell_type": "code",
   "execution_count": 3,
   "id": "210c5e66",
   "metadata": {},
   "outputs": [
    {
     "name": "stdout",
     "output_type": "stream",
     "text": [
      "Original Array; [12 45 67 22 67 78 34 90]\n",
      "After replacing ,Array be: [12 45 70 22 67 78 34 90]\n"
     ]
    }
   ],
   "source": [
    "#replacement\n",
    "\n",
    "print(\"Original Array;\",sample)\n",
    "sample[2] = 70\n",
    "print(\"After replacing ,Array be:\",sample)"
   ]
  },
  {
   "cell_type": "code",
   "execution_count": 4,
   "id": "71a87d78",
   "metadata": {},
   "outputs": [
    {
     "name": "stdout",
     "output_type": "stream",
     "text": [
      "34\n"
     ]
    }
   ],
   "source": [
    "#access a single value -> index\n",
    "print(sample[6])"
   ]
  },
  {
   "cell_type": "code",
   "execution_count": 5,
   "id": "5d526c54",
   "metadata": {},
   "outputs": [
    {
     "name": "stdout",
     "output_type": "stream",
     "text": [
      "[45 70 22 67 78]\n"
     ]
    }
   ],
   "source": [
    "#slicing method\n",
    "print(sample[1:6])"
   ]
  },
  {
   "cell_type": "code",
   "execution_count": 6,
   "id": "d6b1182d",
   "metadata": {},
   "outputs": [
    {
     "name": "stdout",
     "output_type": "stream",
     "text": [
      "8\n"
     ]
    }
   ],
   "source": [
    "#len()\n",
    "print(len(sample))"
   ]
  },
  {
   "cell_type": "code",
   "execution_count": 7,
   "id": "7727b7fb",
   "metadata": {},
   "outputs": [
    {
     "name": "stdout",
     "output_type": "stream",
     "text": [
      "Original Array; [12 45 70 22 67 78 34 90]\n",
      "New_array: [12 45 70 22 67 78 34 90 23]\n",
      "After adding ,Array be: [12 45 70 22 67 78 34 90]\n"
     ]
    }
   ],
   "source": [
    "#append() -> numpy.append(v_n,new_value)\n",
    "print(\"Original Array:\",sample)\n",
    "na = numpy.append(sample,23)\n",
    "print(\"New_array:\",na)\n",
    "print(\"After adding ,Array be:\",sample)"
   ]
  },
  {
   "cell_type": "code",
   "execution_count": 9,
   "id": "90cfb425",
   "metadata": {},
   "outputs": [
    {
     "name": "stdout",
     "output_type": "stream",
     "text": [
      "Original Array; [12 45 70 22 67 78 34 90]\n",
      "New_array: [ 12 100  45  70  22  67  78  34  90]\n",
      "After adding ,Array be: [12 45 70 22 67 78 34 90]\n"
     ]
    }
   ],
   "source": [
    "#insert() -> numpy.insert(v_n,pos,new_value)\n",
    "print(\"Original Array;\",sample)\n",
    "na = numpy.insert(sample,1,100)\n",
    "print(\"New_array:\",na)\n",
    "print(\"After adding ,Array be:\",sample)"
   ]
  },
  {
   "cell_type": "code",
   "execution_count": 10,
   "id": "d0da7fed",
   "metadata": {},
   "outputs": [
    {
     "name": "stdout",
     "output_type": "stream",
     "text": [
      "Original Array: [12 45 70 22 67 78 34 90]\n",
      "New_array: [12 45 70 67 78 34 90]\n",
      "After deleting ,Array be: [12 45 70 22 67 78 34 90]\n"
     ]
    }
   ],
   "source": [
    "#delete() -> particular value\n",
    "print(\"Original Array:\",sample)\n",
    "na = numpy.delete(sample,3)\n",
    "print(\"New_array:\",na)\n",
    "print(\"After deleting ,Array be:\",sample)"
   ]
  },
  {
   "cell_type": "code",
   "execution_count": 11,
   "id": "ed13a88c",
   "metadata": {},
   "outputs": [
    {
     "name": "stdout",
     "output_type": "stream",
     "text": [
      "Original Array: [12 45 70 22 67 78 34 90]\n",
      "(array([5], dtype=int64),)\n"
     ]
    }
   ],
   "source": [
    "#where(v_n==value) -> used to get the position of a particular value\n",
    "print(\"Original Array:\",sample)\n",
    "print(numpy.where(sample==78))"
   ]
  },
  {
   "cell_type": "code",
   "execution_count": 16,
   "id": "51a88333",
   "metadata": {},
   "outputs": [
    {
     "name": "stdout",
     "output_type": "stream",
     "text": [
      "Original Array: [12 45 70 22 67 78 34 90]\n",
      "New_array in Ascending Order: [12 22 34 45 67 70 78 90]\n",
      "After sorting ,Array be: [12 45 70 22 67 78 34 90]\n"
     ]
    }
   ],
   "source": [
    "#sort(v_n) -> ascending order\n",
    "print(\"Original Array:\",sample)\n",
    "na = numpy.sort(sample)\n",
    "print(\"New_array in Ascending Order:\",na)\n",
    "print(\"After sorting ,Array be:\",sample)"
   ]
  },
  {
   "cell_type": "code",
   "execution_count": 17,
   "id": "1deeba80",
   "metadata": {},
   "outputs": [
    {
     "name": "stdout",
     "output_type": "stream",
     "text": [
      "Original Array: [12 45 70 22 67 78 34 90]\n",
      "New_array in Descending Order: [90 78 70 67 45 34 22 12]\n",
      "After sorting ,Array be: [12 45 70 22 67 78 34 90]\n"
     ]
    }
   ],
   "source": [
    "#sort(v_n)[::-1] -> descending order\n",
    "print(\"Original Array:\",sample)\n",
    "na = numpy.sort(sample)[::-1]\n",
    "print(\"New_array in Descending Order:\",na)\n",
    "print(\"After sorting ,Array be:\",sample)"
   ]
  },
  {
   "cell_type": "markdown",
   "id": "e7582511",
   "metadata": {},
   "source": [
    "# Arithmetic Operation on Arrays"
   ]
  },
  {
   "cell_type": "code",
   "execution_count": 26,
   "id": "a5a56242",
   "metadata": {},
   "outputs": [
    {
     "name": "stdout",
     "output_type": "stream",
     "text": [
      "Addition: [11 22 33 44]\n",
      "Subraction: [ 9 18 27 36]\n",
      "Multiplication: [ 10  40  90 160]\n",
      "division: [0 0 0 0]\n",
      "power: [ 1  4  9 16]\n"
     ]
    }
   ],
   "source": [
    "a1 = numpy.array([1,2,3,4])\n",
    "a2 = numpy.array([10,20,30,40])\n",
    "#addition\n",
    "print(\"Addition:\",a1+a2)\n",
    "#subtraction\n",
    "print(\"Subraction:\",a2-a1)\n",
    "#Multiplication\n",
    "print(\"Multiplication:\",a2*a1)\n",
    "#division\n",
    "print(\"division:\",a2%a1)\n",
    "#power\n",
    "print(\"power:\",a1**2)"
   ]
  },
  {
   "cell_type": "code",
   "execution_count": null,
   "id": "e7b829ac",
   "metadata": {},
   "outputs": [],
   "source": [
    "\n"
   ]
  }
 ],
 "metadata": {
  "kernelspec": {
   "display_name": "Python 3 (ipykernel)",
   "language": "python",
   "name": "python3"
  },
  "language_info": {
   "codemirror_mode": {
    "name": "ipython",
    "version": 3
   },
   "file_extension": ".py",
   "mimetype": "text/x-python",
   "name": "python",
   "nbconvert_exporter": "python",
   "pygments_lexer": "ipython3",
   "version": "3.10.4"
  }
 },
 "nbformat": 4,
 "nbformat_minor": 5
}
